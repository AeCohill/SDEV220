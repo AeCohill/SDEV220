{
 "cells": [
  {
   "cell_type": "markdown",
   "id": "c21a73a6-760c-41ab-854d-23333073680a",
   "metadata": {},
   "source": [
    "## 1st example test"
   ]
  },
  {
   "cell_type": "code",
   "execution_count": null,
   "id": "ba08305a-b4b9-49e7-87d7-10d16f1f3932",
   "metadata": {},
   "outputs": [],
   "source": [
    "def test_sum():\n",
    "    assert sum([1, 2, 3]) == 6, \"Should be 6\"\n",
    "    \n",
    "if __name__ == \"__main__\":\n",
    "    test_sum()\n",
    "    print(\"Everything passed\")"
   ]
  },
  {
   "cell_type": "markdown",
   "id": "d37bd967-ac82-4d60-bfae-b93db014be1b",
   "metadata": {},
   "source": [
    "## 2nd example"
   ]
  },
  {
   "cell_type": "code",
   "execution_count": null,
   "id": "dfab8c52-7a41-4103-b5b2-59a46821cdba",
   "metadata": {},
   "outputs": [],
   "source": [
    "def test_sum():\n",
    "    assert sum([1, 2, 3]) == 6, \"Should be 6\"\n",
    "\n",
    "def test_sum_tuple():\n",
    "    assert sum((1, 2, 2)) == 6, \"Should be 6\"\n",
    "\n",
    "if __name__ == \"__main__\":\n",
    "    test_sum()\n",
    "    test_sum_tuple()\n",
    "    print(\"Everything passed\")"
   ]
  },
  {
   "cell_type": "markdown",
   "id": "92fcd2c8-74bc-471d-ba06-2c8fea777726",
   "metadata": {},
   "source": [
    "## unitest testing"
   ]
  },
  {
   "cell_type": "code",
   "execution_count": null,
   "id": "f89bdbd1-efc6-46bc-b3cc-b334c0879938",
   "metadata": {},
   "outputs": [],
   "source": [
    "import unittest\n",
    "\n",
    "class TestSum(unittest.TestCase):\n",
    "\n",
    "    def test_sum(self):\n",
    "        result = sum([1, 2, 3])\n",
    "        self.assertEqual(result, 6, \"Should be 6\")\n",
    "        print(\"Test sum([1, 2, 3]) =\", result)\n",
    "\n",
    "    def test_sum_tuple(self):\n",
    "        result = sum((1, 2, 2))\n",
    "        self.assertEqual(result, 6, \"Should be 6\")\n",
    "        print(\"Test sum((1, 2, 2)) =\", result)\n",
    "\n",
    "if __name__ == '__main__':\n",
    "    unittest.main()"
   ]
  },
  {
   "cell_type": "markdown",
   "id": "909f335f-6911-42ca-acff-1b9e335b1a31",
   "metadata": {},
   "source": [
    "## pytest testing"
   ]
  },
  {
   "cell_type": "code",
   "execution_count": null,
   "id": "6b44eb25-f0a1-4492-bc5a-9f951b70ec9a",
   "metadata": {},
   "outputs": [],
   "source": [
    "def test_sum():\n",
    "    assert sum([1, 2, 3]) == 6, \"Should be 6\"\n",
    "\n",
    "def test_sum_tuple():\n",
    "    assert sum((1, 2, 2)) == 6, \"Should be 6\""
   ]
  },
  {
   "cell_type": "markdown",
   "id": "4acaabf1-75fe-4a2d-8c63-ff37b72e6557",
   "metadata": {},
   "source": [
    "## __init__ for my_sum folder"
   ]
  },
  {
   "cell_type": "code",
   "execution_count": null,
   "id": "2ff4ef22-9468-4c96-932e-8cd03878f557",
   "metadata": {},
   "outputs": [],
   "source": [
    "def sum(arg):\n",
    "    total = 0\n",
    "    for val in arg:\n",
    "        total += val\n",
    "    return total"
   ]
  },
  {
   "cell_type": "markdown",
   "id": "8c582376-fba3-40b0-808d-aaf7f26f7049",
   "metadata": {},
   "source": [
    "## tst.py folder"
   ]
  },
  {
   "cell_type": "code",
   "execution_count": null,
   "id": "69ec8eb8-8c46-4a6d-9ab3-2cd381607798",
   "metadata": {},
   "outputs": [],
   "source": [
    "import unittest\n",
    "# Imports sum() from the my_sum package you created\n",
    "from my_sum import sum\n",
    "\n",
    "#Defines a new test case class called \n",
    "#TestSum, which inherits from unittest.TestCase\n",
    "class TestSum(unittest.TestCase):\n",
    "    def test_list_int(self):\n",
    "        \"\"\"\n",
    "        Test that it can sum a list of integers\n",
    "        \"\"\"\n",
    "        data = [1, 2, 3]\n",
    "        result = sum(data)\n",
    "        self.assertEqual(result, 6)\n",
    "   \n",
    "    def test_list_fraction(self):\n",
    "        \"\"\"\n",
    "        Test that it can sum a list of fractions\n",
    "        \"\"\"\n",
    "        data = [Fraction(1, 4), Fraction(1, 4), Fraction(2, 5)]\n",
    "        result = sum(data)\n",
    "        self.assertEqual(result, 1)\n",
    "\n",
    "if __name__ == '__main__':\n",
    "    unittest.main()\n",
    "#Defines a test method, .test_list_int(), to test a list of integers. The method .test_list_int() will:\n",
    "\n",
    "#Declare a variable data with a list of numbers (1, 2, 3)\n",
    "#Assign the result of my_sum.sum(data) to a result variable\n",
    "# of result equals 6 by using the .assertEqual() method on the unittest.TestCase class\n",
    "#Defines a command-line entry point, which runs the unittest test-runner .main()"
   ]
  }
 ],
 "metadata": {
  "kernelspec": {
   "display_name": "Python 3 (ipykernel)",
   "language": "python",
   "name": "python3"
  },
  "language_info": {
   "codemirror_mode": {
    "name": "ipython",
    "version": 3
   },
   "file_extension": ".py",
   "mimetype": "text/x-python",
   "name": "python",
   "nbconvert_exporter": "python",
   "pygments_lexer": "ipython3",
   "version": "3.11.7"
  }
 },
 "nbformat": 4,
 "nbformat_minor": 5
}
