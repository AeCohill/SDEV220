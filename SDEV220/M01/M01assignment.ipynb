{
 "cells": [
  {
   "cell_type": "markdown",
   "id": "c554951e-645c-4f14-a1d1-aa0529096ba9",
   "metadata": {},
   "source": [
    "## Adam cohills M01 programming assignment."
   ]
  },
  {
   "cell_type": "code",
   "execution_count": 3,
   "id": "1fa14733-1d87-487a-9b0b-0ca392a8ce96",
   "metadata": {
    "scrolled": true
   },
   "outputs": [
    {
     "name": "stdout",
     "output_type": "stream",
     "text": [
      "Seconds per hour:  3600\n",
      "Second in a day:  86400\n",
      "Floating point division:  24.0\n",
      "Integer division:  24\n"
     ]
    }
   ],
   "source": [
    "## 3.1 calculating how many seconds are in an hour ##\n",
    "60 * 60\n",
    "\n",
    "# 3.2 assigning result to varible\n",
    "seconds_per_hour = 3600\n",
    "print(\"Seconds per hour: \",seconds_per_hour)\n",
    "\n",
    "## 3.3 Calculating seconds per day\n",
    "ANS3 = seconds_per_hour * 24\n",
    "print(\"Second in a day: \",ANS3)\n",
    "\n",
    "## 3.4 Assigning result to seconds per day variable\n",
    "seconds_per_day = seconds_per_hour * 24\n",
    "\n",
    "## 3.5 dividing seconds per day by seconds per hour w/ floating point\n",
    "ANS5 = seconds_per_day / seconds_per_hour\n",
    "print(\"Floating point division: \",ANS5)\n",
    "\n",
    "## 3.6 answer to prompt: yes they agreed.\n",
    "#### divided same as above but using integer division\n",
    "ANS6 = seconds_per_day // seconds_per_hour\n",
    "print(\"Integer division: \",ANS6)"
   ]
  }
 ],
 "metadata": {
  "kernelspec": {
   "display_name": "Python 3 (ipykernel)",
   "language": "python",
   "name": "python3"
  },
  "language_info": {
   "codemirror_mode": {
    "name": "ipython",
    "version": 3
   },
   "file_extension": ".py",
   "mimetype": "text/x-python",
   "name": "python",
   "nbconvert_exporter": "python",
   "pygments_lexer": "ipython3",
   "version": "3.11.7"
  }
 },
 "nbformat": 4,
 "nbformat_minor": 5
}
