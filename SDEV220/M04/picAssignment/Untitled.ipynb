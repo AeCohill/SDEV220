{
 "cells": [
  {
   "cell_type": "markdown",
   "id": "489d1041-21d9-45f4-bc96-471a65890741",
   "metadata": {},
   "source": [
    "## setting up my djangogirls files and project"
   ]
  },
  {
   "cell_type": "code",
   "execution_count": null,
   "id": "41fcee18-8d86-4b6c-b93d-845117129c91",
   "metadata": {},
   "outputs": [],
   "source": []
  },
  {
   "cell_type": "code",
   "execution_count": null,
   "id": "8a1fd751-ecbe-4c90-8e21-134700862009",
   "metadata": {},
   "outputs": [],
   "source": []
  },
  {
   "cell_type": "code",
   "execution_count": null,
   "id": "7dbd7f0b-451a-46da-96bb-280c3fac2b26",
   "metadata": {},
   "outputs": [],
   "source": []
  }
 ],
 "metadata": {
  "kernelspec": {
   "display_name": "Python 3 (ipykernel)",
   "language": "python",
   "name": "python3"
  },
  "language_info": {
   "codemirror_mode": {
    "name": "ipython",
    "version": 3
   },
   "file_extension": ".py",
   "mimetype": "text/x-python",
   "name": "python",
   "nbconvert_exporter": "python",
   "pygments_lexer": "ipython3",
   "version": "3.11.7"
  }
 },
 "nbformat": 4,
 "nbformat_minor": 5
}
