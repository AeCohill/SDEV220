{
 "cells": [
  {
   "cell_type": "markdown",
   "id": "9093a1a6-6063-4766-b5bf-ad5a9f369b0d",
   "metadata": {},
   "source": [
    "## 11.1 Create a file called zoo.py. In it, define a function called hours() that prints the string 'Open 9-5 daily'. Then, use the interactive interpreter to import the zoo module and call its hours() function.\n"
   ]
  },
  {
   "cell_type": "code",
   "execution_count": 1,
   "id": "c8caeefd-836b-4027-b074-f1feffcf7879",
   "metadata": {},
   "outputs": [],
   "source": [
    "def hours():\n",
    "    print('Open daily 9a-5p')"
   ]
  },
  {
   "cell_type": "markdown",
   "id": "70c1d0e9-67b5-47ac-876e-0ce3487a74b1",
   "metadata": {},
   "source": [
    "### below is the import file"
   ]
  },
  {
   "cell_type": "code",
   "execution_count": null,
   "id": "962d4aed-5d44-48fc-a020-b5683a2d15e0",
   "metadata": {},
   "outputs": [],
   "source": [
    "import zoo\n",
    "\n",
    "zoo.hours()\n"
   ]
  },
  {
   "cell_type": "markdown",
   "id": "5d28bba3-0bc7-4733-bc70-e596740ea7eb",
   "metadata": {},
   "source": [
    "## 11.2 In the interactive interpreter, import the zoo module as menagerie and call its hours() function."
   ]
  },
  {
   "cell_type": "code",
   "execution_count": null,
   "id": "9d82b696-77cc-4429-b767-240748aa26b0",
   "metadata": {},
   "outputs": [],
   "source": [
    "from zoo import hours\n",
    "hours()"
   ]
  },
  {
   "cell_type": "markdown",
   "id": "e92cc8ab-e53f-4b36-9b8e-448c972298bf",
   "metadata": {},
   "source": [
    "### needed to create a books database to complere 18.8 so here it is i used sqllite3"
   ]
  },
  {
   "cell_type": "code",
   "execution_count": null,
   "id": "b005ba8c-0878-4189-85c1-dc0431173da4",
   "metadata": {},
   "outputs": [],
   "source": [
    "import sqlite3\n",
    "conn = sqlite3.connect(books.db)\n",
    "curs = conn.cursor()\n",
    "curs.execute('''CREATE TABLE books\n",
    "             (title STR,\n",
    "             author STR,\n",
    "             year INT) ''')\n",
    "\n",
    "## had chatGPT give rando data and i wrote this to pop the DB\n",
    "data_to_insert = [\n",
    "    (\"To Kill a Mockingbird\", \"Harper Lee\", 1960),\n",
    "    (\"1984\", \"George Orwell\", 1949),\n",
    "    (\"The Great Gatsby\", \"F. Scott Fitzgerald\", 1925)\n",
    "]    \n",
    "\n",
    "curs.executemany(\"INSERT INTO books VALUES (?, ?, ?)\", data_to_insert)\n",
    "    \n",
    "curs.close()\n",
    "conn.close()"
   ]
  },
  {
   "cell_type": "markdown",
   "id": "a0f57497-6cdb-4e4b-a95b-ac2e51274283",
   "metadata": {},
   "source": [
    "## 16.8 Use the sqlalchemy module to connect to the sqlite3 database books.db that you just made in exercise 16.4. As in 16.6, select and print the title column from the book table in alphabetical order.\n"
   ]
  },
  {
   "cell_type": "code",
   "execution_count": null,
   "id": "53b3ab3b-71dd-43e9-99a5-93f04e05e09b",
   "metadata": {},
   "outputs": [],
   "source": [
    "\n",
    "import sqlalchemy as sa\n",
    "\n",
    "engine = sa.create_engine('sqlite:///books.db')\n",
    "\n",
    "conn = engine.connect()\n",
    "\n",
    "meta = sa.MetaData()\n",
    "\n",
    "books_table = sa.Table('books', meta, autoload=True, autoload_with=engine)\n",
    "select_q = sa.select([books_table.columns.title]).order_by(books_table.columns.title)\n",
    "\n",
    "res = conn.execute(select_q)\n",
    "\n",
    "for row in res:\n",
    "    print(row[0])\n",
    "    \n",
    "conn.close()\n"
   ]
  }
 ],
 "metadata": {
  "kernelspec": {
   "display_name": "Python 3 (ipykernel)",
   "language": "python",
   "name": "python3"
  },
  "language_info": {
   "codemirror_mode": {
    "name": "ipython",
    "version": 3
   },
   "file_extension": ".py",
   "mimetype": "text/x-python",
   "name": "python",
   "nbconvert_exporter": "python",
   "pygments_lexer": "ipython3",
   "version": "3.11.7"
  }
 },
 "nbformat": 4,
 "nbformat_minor": 5
}
