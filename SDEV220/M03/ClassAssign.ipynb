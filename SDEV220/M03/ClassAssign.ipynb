{
 "cells": [
  {
   "cell_type": "markdown",
   "id": "f5496f08-6bcb-40ba-abfc-c926a8e214a4",
   "metadata": {},
   "source": [
    "# M03 Lab - Case Study: Lists, Functions, and Classes\n",
    "## Write a Python app that has the following classes:\n",
    "## A super class called Vehicle, which contains an attribute for vehicle type, such as car, truck, plane, boat, or a broomstick. \r\n",
    "A class called Automobile which will inherit the attributes from Vehicle and also contain the following attribute :\r\n",
    "y, ar\r\n",
    ", ake\r\n",
    ", odel\r\n",
    "oors (, or 4)\n",
    "roof (solidor sn\n",
    "## Write an app that will accept user input for a car. The app will store \"car\" into the vehicle type in your Vehicle super class. \r",
    "## \n",
    "The app will then ask the user for the year, make, model, doors, and type of roof and store that data in the attributes above.## \r\n",
    "The app will then output the data in an ea y- o-read and understandable form sunroof roof)."
   ]
  },
  {
   "cell_type": "code",
   "execution_count": null,
   "id": "a3883a87-3461-4b0d-a743-6aac69008b33",
   "metadata": {},
   "outputs": [],
   "source": [
    "class Vehicle():\n",
    "    def __init__(self, vehicleType):\n",
    "        self.vehicleType = vehicleType\n",
    "\n",
    "class Automobile(Vehicle):\n",
    "    def __init__(self, make, model, year, is_2door, has_sunroof):\n",
    "        super().__init__(\"Automobile\")\n",
    "        self.make = make\n",
    "        self.model = model\n",
    "        self.year = year\n",
    "        self.is_2door = is_2door\n",
    "        self.has_sunroof = has_sunroof\n",
    "\n",
    "def main():\n",
    "    vehicleType = 'car'\n",
    "    make = input('Input maker of your vehicle: ')\n",
    "    model = input('Input the model of your vehicle: ')\n",
    "    year = input('Input the year of your vehicle: ')\n",
    "    is_2door = input('Is your vehicle a 2_door? Enter True/False: ').lower() == 'true'\n",
    "    has_sunroof = input('Does it have a sunroof? Enter True/False: ').lower() == 'true'\n",
    "    \n",
    "    my_Automobile = Automobile(make, model, year, is_2door, has_sunroof)\n",
    "    \n",
    "    print(\"\\nCar Details:\")\n",
    "    print(\"\\nMake: \",my_Automobile.make)\n",
    "    print(\"\\nModel: \",my_Automobile.model)\n",
    "    print(\"\\nYear: \",my_Automobile.year)\n",
    "    print(\"\\nyour car Is a 2 door vehicle:\",my_Automobile.is_2door)\n",
    "    print(\"\\nYour car has a sunroof:\", my_Automobile.has_sunroof )\n",
    "    \n",
    "if __name__ == \"__main__\":\n",
    "    main()    \n",
    "        \n",
    "        \n",
    "\n",
    "        "
   ]
  }
 ],
 "metadata": {
  "kernelspec": {
   "display_name": "Python 3 (ipykernel)",
   "language": "python",
   "name": "python3"
  },
  "language_info": {
   "codemirror_mode": {
    "name": "ipython",
    "version": 3
   },
   "file_extension": ".py",
   "mimetype": "text/x-python",
   "name": "python",
   "nbconvert_exporter": "python",
   "pygments_lexer": "ipython3",
   "version": "3.11.7"
  }
 },
 "nbformat": 4,
 "nbformat_minor": 5
}
