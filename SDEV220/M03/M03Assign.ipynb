{
 "cells": [
  {
   "cell_type": "markdown",
   "id": "32456ab0-812f-4af0-b983-32f323125c6d",
   "metadata": {},
   "source": [
    "# Chapter 7 Questions\n",
    "## 7.4 Make a list called things with these three strings\r\n",
    "# aas elements: \"mozzarella\", \"cinderella\", \"salmonella\"."
   ]
  },
  {
   "cell_type": "code",
   "execution_count": 1,
   "id": "47e31237-dc6f-4a31-bdb2-333c262be160",
   "metadata": {},
   "outputs": [],
   "source": [
    "things = [\"mozzarella\", \"cinderella\", \"salmonella\"]"
   ]
  },
  {
   "cell_type": "markdown",
   "id": "775e6910-ef3e-422c-998e-101268bb7998",
   "metadata": {},
   "source": [
    "## 7.5 Capitalize the element in things that refers to a person \n",
    "## and then print the list. Did it change the element in the list?\n",
    "### yes it did"
   ]
  },
  {
   "cell_type": "code",
   "execution_count": 2,
   "id": "e47f2641-0048-4c9d-8170-3eabd91c3825",
   "metadata": {},
   "outputs": [
    {
     "name": "stdout",
     "output_type": "stream",
     "text": [
      "['mozzarella', 'Cinderella', 'salmonella']\n"
     ]
    }
   ],
   "source": [
    "things = [\"mozzarella\", \"cinderella\", \"salmonella\"]\n",
    "things[1] = things[1].capitalize()\n",
    "print(things)"
   ]
  },
  {
   "cell_type": "markdown",
   "id": "dc2f7c4e-718b-44af-ae48-46b3e7b0df79",
   "metadata": {},
   "source": [
    "## 7.6 Make the cheesy element of things all \n",
    "## uppercase and then print the list."
   ]
  },
  {
   "cell_type": "code",
   "execution_count": 3,
   "id": "1f176b8d-c66f-41df-a178-46641e0a984e",
   "metadata": {},
   "outputs": [
    {
     "name": "stdout",
     "output_type": "stream",
     "text": [
      "['MOZZARELLA', 'Cinderella', 'salmonella']\n"
     ]
    }
   ],
   "source": [
    "for i in range(len(things[0])):\n",
    "    things[0] = things[0].upper()\n",
    "\n",
    "print(things)    "
   ]
  },
  {
   "cell_type": "markdown",
   "id": "5c1d6d39-19ab-41a8-815c-3ecfc3a4bb40",
   "metadata": {},
   "source": [
    "## 7.7 Delete the disease element from things,\n",
    "## collect your Nobel Prize, and print the list."
   ]
  },
  {
   "cell_type": "code",
   "execution_count": 4,
   "id": "cd0da596-9d90-47b0-97a4-f4e354dd92e6",
   "metadata": {},
   "outputs": [
    {
     "name": "stdout",
     "output_type": "stream",
     "text": [
      "['MOZZARELLA', 'Cinderella', 'salmonella']\n",
      "['MOZZARELLA', 'Cinderella']\n"
     ]
    }
   ],
   "source": [
    "for i in range(len(things[0])):\n",
    "    things[0] = things[0].upper()\n",
    "\n",
    "print(things)  \n",
    "del things[2]\n",
    "print(things) "
   ]
  },
  {
   "cell_type": "markdown",
   "id": "945a8300-ad50-4297-9449-0a80472cf212",
   "metadata": {},
   "source": [
    "# Chapter 9 Questions"
   ]
  },
  {
   "cell_type": "markdown",
   "id": "af3dd872-fa29-4581-b221-e6b46cc410f2",
   "metadata": {},
   "source": [
    "## 9.1 Define a function called good() \r\n",
    "## that returns the following list: ['Harry', 'Ron', 'Hermione']."
   ]
  },
  {
   "cell_type": "code",
   "execution_count": 5,
   "id": "5918556b-23df-48e6-a8a7-454478cb6612",
   "metadata": {},
   "outputs": [
    {
     "name": "stdout",
     "output_type": "stream",
     "text": [
      "['Harry', 'Ron', 'Hermione']\n"
     ]
    }
   ],
   "source": [
    "def good():\n",
    "    list = ['Harry', 'Ron', 'Hermione']\n",
    "    print(list)\n",
    "good()"
   ]
  },
  {
   "cell_type": "markdown",
   "id": "add7b942-153a-4439-98e2-cdfaef5d70d6",
   "metadata": {},
   "source": [
    "## 9.2 Define a generator function called get_odds()\n",
    "## that returns the odd numbers from range(10). \n",
    "## Use a for loop to find and print the third value returned."
   ]
  },
  {
   "cell_type": "code",
   "execution_count": 7,
   "id": "0603b6c6-e3e9-47a0-b782-f8672560e16f",
   "metadata": {},
   "outputs": [
    {
     "name": "stdout",
     "output_type": "stream",
     "text": [
      "The third odd num is:  5\n"
     ]
    }
   ],
   "source": [
    "def get_Odds(first=0, last=11, step=1):\n",
    "    ranger = range(first, last, step)\n",
    "    odd_count = 0\n",
    "    for x in ranger:\n",
    "        if x % 2 != 0:\n",
    "            odd_count += 1\n",
    "            if odd_count == 3:\n",
    "                print('The third odd num is: ',x)\n",
    "                break\n",
    "\n",
    "get_Odds()"
   ]
  },
  {
   "cell_type": "code",
   "execution_count": null,
   "id": "5ee770a6-a058-4867-838f-a3dccd7ae4c2",
   "metadata": {},
   "outputs": [],
   "source": []
  }
 ],
 "metadata": {
  "kernelspec": {
   "display_name": "Python 3 (ipykernel)",
   "language": "python",
   "name": "python3"
  },
  "language_info": {
   "codemirror_mode": {
    "name": "ipython",
    "version": 3
   },
   "file_extension": ".py",
   "mimetype": "text/x-python",
   "name": "python",
   "nbconvert_exporter": "python",
   "pygments_lexer": "ipython3",
   "version": "3.11.7"
  }
 },
 "nbformat": 4,
 "nbformat_minor": 5
}
