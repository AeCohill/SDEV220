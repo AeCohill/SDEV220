{
 "cells": [
  {
   "cell_type": "code",
   "execution_count": null,
   "id": "a7cb896b-879e-449d-b7ab-bcf668774cb7",
   "metadata": {},
   "outputs": [],
   "source": [
    "### 13.1 Write the current date as a string to the text file today.txt.\n",
    "### 13.2 Read the text file today.txt into the string today_string.\n",
    "### 13.3 Parse the date from today_string"
   ]
  },
  {
   "cell_type": "code",
   "execution_count": null,
   "id": "4afb4d70-eff4-49ae-862b-71e8c455ee9a",
   "metadata": {},
   "outputs": [],
   "source": [
    "from datetime import datetime\n",
    "now = datetime.now()\n",
    "now_str = now.strftime(\"%Y-%m-%d %H:%M:%S\")\n",
    "\n",
    "with open('today.txt', 'w') as file:\n",
    "    file.write(now_str)\n",
    "    \n",
    "with open('today.txt','r') as file:\n",
    "        \n",
    "        today_string = file.read()\n",
    "\n",
    "date_string = today_string.strip()\n",
    "\n",
    "parsed_date = datetime.strptime(date_string, \"%Y-%m-%d %H:%M:%S\")       \n",
    "\n",
    "parsed_date_only = parsed_date.date()\n",
    "\n",
    "print (parsed_date_only) "
   ]
  },
  {
   "cell_type": "markdown",
   "id": "739088c7-47d2-4d14-8786-48745273486e",
   "metadata": {},
   "source": [
    "### 15.1 Use multiprocessing to create three separate processes. Make each one wait a random number of seconds between zero and one, print the current time, and then exit."
   ]
  },
  {
   "cell_type": "markdown",
   "id": "d5f287da-15d7-4798-9563-dfcb78c187e1",
   "metadata": {},
   "source": [
    "import multiprocessing\r\n",
    "import time\r\n",
    "import random\r\n",
    "import datetime\r\n",
    "\r\n",
    "def process_function():\r\n",
    "    \r\n",
    "    wait_time = random.random()\r\n",
    "    \r\n",
    "    time.sleep(wait_time)\r\n",
    "    \r\n",
    "    current_time = datetime.datetime.now().strftime(\"%Y-%m-%d %H:%M:%S\")\r\n",
    "    print(f\"Current time: {current_time}\")\r\n",
    "    \r\n",
    "    print(\"Exiting process.\")\r\n",
    "\r\n",
    "if __name__ == \"__main__\":\r\n",
    "    \r\n",
    "    processes = []\r\n",
    "    for _ in range(3):\r\n",
    "        p = multiprocessing.Process(target=process_function)\r\n",
    "        processes.append(p)\r\n",
    "        p.start()\r\n",
    "\r\n",
    "    \r\n",
    "    for p in processes:\r\n",
    "        p.join()\r\n",
    "\r\n",
    "    print(\"All processes have finished.\")"
   ]
  },
  {
   "cell_type": "markdown",
   "id": "b7077a4a-4682-4e92-950f-635805081694",
   "metadata": {},
   "source": [
    "### i struggled very much with this exercise it made little sence to me and i kindof wish we had a more hands on thing going on in class with this."
   ]
  }
 ],
 "metadata": {
  "kernelspec": {
   "display_name": "Python 3 (ipykernel)",
   "language": "python",
   "name": "python3"
  },
  "language_info": {
   "codemirror_mode": {
    "name": "ipython",
    "version": 3
   },
   "file_extension": ".py",
   "mimetype": "text/x-python",
   "name": "python",
   "nbconvert_exporter": "python",
   "pygments_lexer": "ipython3",
   "version": "3.11.7"
  }
 },
 "nbformat": 4,
 "nbformat_minor": 5
}
