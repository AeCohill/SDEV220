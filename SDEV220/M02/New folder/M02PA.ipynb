{
 "cells": [
  {
   "cell_type": "markdown",
   "id": "41953f24-6f16-4e29-b2ae-655dd744e6a6",
   "metadata": {},
   "source": [
    "# Mod 2 programming assignment Loops and Conditionals\n",
    "Complete the following sections in your Jupyter Notebook:\r\n",
    "4.1\r\n",
    "4.2\r\n",
    "6.1\r\n",
    "6.2\r\n",
    "6.3"
   ]
  },
  {
   "cell_type": "markdown",
   "id": "5edbf90f-5324-47ca-96e2-445f6b351e16",
   "metadata": {},
   "source": [
    "## 4.1\n",
    "### Choose a number between 1 and 10 and assign it to the variable secret. Then, select another number between 1 and 10 and assign it to the variable guess. Next, write the conditional tests (if, else, and elif) to print the string 'too low' if guess is less than secret, 'too high' if greater than secret, and 'just right' if equal to secret."
   ]
  },
  {
   "cell_type": "code",
   "execution_count": 1,
   "id": "8dcaf10d-1216-4b98-b144-d210903ad9f9",
   "metadata": {},
   "outputs": [
    {
     "name": "stdout",
     "output_type": "stream",
     "text": [
      "Too high\n"
     ]
    }
   ],
   "source": [
    "secret = 8\n",
    "guess = 9\n",
    "\n",
    "def guessMac():\n",
    "\n",
    "    if secret > guess:\n",
    "        print (\"Too low\")\n",
    "    elif secret < guess:\n",
    "        print(\"Too high\")\n",
    "    else:\n",
    "        print(\"You got it!\")\n",
    "        \n",
    "guessMac()"
   ]
  },
  {
   "cell_type": "markdown",
   "id": "189aa851-0630-4da2-acdc-5fdcf5a8da67",
   "metadata": {},
   "source": [
    "## 4.2\n",
    "### Assign True or False to the variables small and green. Write some if/else statements to print which of these matches those choices: cherry, pea, watermelon, pumpkin."
   ]
  },
  {
   "cell_type": "code",
   "execution_count": 2,
   "id": "f54d00b3-6de7-4ae1-a88f-b057845a890b",
   "metadata": {},
   "outputs": [
    {
     "name": "stdout",
     "output_type": "stream",
     "text": [
      "Its a cherry\n"
     ]
    }
   ],
   "source": [
    "small = True\n",
    "green = False\n",
    "\n",
    "def fruitMac():\n",
    "    if small and not green:\n",
    "        print(\"Its a cherry\")\n",
    "    elif small and green:\n",
    "        print(\"Its a pea\")\n",
    "    elif not small and not green:\n",
    "        print(\"Its a pumpkin\")\n",
    "    else:\n",
    "        print(\"Its a watermelon\") \n",
    "        \n",
    "fruitMac()"
   ]
  },
  {
   "cell_type": "markdown",
   "id": "df20967e-f062-4d93-88e8-ad28eaf9ecca",
   "metadata": {},
   "source": [
    "## 6.1\n",
    "###  Use a for loop to print the values of the list [3, 2, 1, 0]."
   ]
  },
  {
   "cell_type": "code",
   "execution_count": 3,
   "id": "79d512e9-0758-4f81-b70f-731e58461843",
   "metadata": {},
   "outputs": [
    {
     "name": "stdout",
     "output_type": "stream",
     "text": [
      "[3, 2, 1, 0]\n"
     ]
    }
   ],
   "source": [
    "def TTDloop():\n",
    "    print(list(range(3,-1, -1)))\n",
    "\n",
    "TTDloop()"
   ]
  },
  {
   "cell_type": "markdown",
   "id": "1d9ed06a-5821-432c-a03e-906f311e00c3",
   "metadata": {},
   "source": [
    "## 6.1\n",
    "###  Assign the value 7 to the variable guess_me, and the value 1 to the variable number. Write a while loop that compares number with guess_me. Print 'too low' if number is less than guess me. If number equals guess_me, print 'found it!' and then exit the loop. If number is greater than guess_me, print 'oops' and then exit the loop. Increment number at the end of the loop."
   ]
  },
  {
   "cell_type": "code",
   "execution_count": 4,
   "id": "f09c65fc-5c7a-4781-a071-99b701656bc5",
   "metadata": {},
   "outputs": [
    {
     "name": "stdout",
     "output_type": "stream",
     "text": [
      "Too low\n",
      "Too low\n",
      "Too low\n",
      "Too low\n",
      "Too low\n",
      "Too low\n",
      "Found it\n"
     ]
    }
   ],
   "source": [
    "def guessMac2():\n",
    "    guess_me = 7\n",
    "    number = 1\n",
    "    while True:\n",
    "        if number < guess_me:\n",
    "            print(\"Too low\")\n",
    "            number += 1\n",
    "        elif number == guess_me:\n",
    "            print (\"Found it\")\n",
    "            break\n",
    "        else:\n",
    "            print(\"OOPS\")\n",
    "            break  \n",
    "\n",
    "guessMac2()"
   ]
  },
  {
   "cell_type": "markdown",
   "id": "995c8d5a-511f-40ce-ad19-22ce09b713b9",
   "metadata": {},
   "source": [
    "## 6.3 \n",
    "### Assign the value 5 to the variable guess_me. Use a for loop to iterate a variable called number over range(10). If number is less than guess_me, print 'too low'. If it equals guess_me, print found it! and then break out of the for loop. If number is greater than guess_me, print 'oops' and then exit the loop."
   ]
  },
  {
   "cell_type": "code",
   "execution_count": 5,
   "id": "d499b107-3ffb-4fed-9911-5c7f7026492f",
   "metadata": {},
   "outputs": [
    {
     "name": "stdout",
     "output_type": "stream",
     "text": [
      "Too low!\n",
      "Too low!\n",
      "Too low!\n",
      "Too low!\n",
      "Too low!\n",
      "GOT IT!!\n"
     ]
    }
   ],
   "source": [
    "def TTDloop2():\n",
    "    guess_me = 5\n",
    "    for number in range (10):\n",
    "        if number < guess_me:\n",
    "            print(\"Too low!\")\n",
    "        elif number == guess_me:\n",
    "            print(\"GOT IT!!\")\n",
    "            break\n",
    "        elif number > guess_me:\n",
    "            print(\"oops\")\n",
    "            break      \n",
    "\n",
    "TTDloop2()"
   ]
  },
  {
   "cell_type": "code",
   "execution_count": null,
   "id": "d20ac89a-ba97-4dc4-8e33-ca0cd3207da8",
   "metadata": {},
   "outputs": [],
   "source": []
  }
 ],
 "metadata": {
  "kernelspec": {
   "display_name": "Python 3 (ipykernel)",
   "language": "python",
   "name": "python3"
  },
  "language_info": {
   "codemirror_mode": {
    "name": "ipython",
    "version": 3
   },
   "file_extension": ".py",
   "mimetype": "text/x-python",
   "name": "python",
   "nbconvert_exporter": "python",
   "pygments_lexer": "ipython3",
   "version": "3.11.7"
  }
 },
 "nbformat": 4,
 "nbformat_minor": 5
}
