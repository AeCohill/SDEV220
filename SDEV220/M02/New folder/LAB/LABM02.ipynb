{
 "cells": [
  {
   "cell_type": "markdown",
   "id": "17ff9bda-0a97-4e3f-9bd6-e8a6c594d482",
   "metadata": {},
   "source": [
    "## Adam Cohill\n",
    "## sdev220 M02 Lab if... else and while"
   ]
  },
  {
   "cell_type": "markdown",
   "id": "0e4d28df-ef59-4625-943c-dbf9b737ae61",
   "metadata": {},
   "source": [
    "ask for and accept a student's last name.\n",
    "Quit processing student records if the last name entered is 'ZZZ'."
   ]
  },
  {
   "cell_type": "code",
   "execution_count": 1,
   "id": "81cb39fd-54f8-45b3-b489-1195dae67286",
   "metadata": {},
   "outputs": [
    {
     "name": "stdin",
     "output_type": "stream",
     "text": [
      "Input last name or ZZZ to QUIT:  Cohill\n",
      "Input last name or ZZZ to QUIT:  ZZZ\n"
     ]
    }
   ],
   "source": [
    "while True:\n",
    "    Lname = input(\"Input last name or ZZZ to QUIT: \")\n",
    "    if Lname == \"ZZZ\":\n",
    "        break"
   ]
  },
  {
   "cell_type": "markdown",
   "id": "232e1bd8-0c41-4ec7-a80b-70a8c7695a9e",
   "metadata": {},
   "source": [
    "ask for and accept a student's first name.\n",
    "ask for and accept the student's GPA as a float."
   ]
  },
  {
   "cell_type": "code",
   "execution_count": 2,
   "id": "a36c6577-db47-43ca-9c41-ff3d9b120b51",
   "metadata": {},
   "outputs": [
    {
     "name": "stdin",
     "output_type": "stream",
     "text": [
      "Input your first name:  Adam\n",
      "Input your GPA:  3.5\n"
     ]
    }
   ],
   "source": [
    "while True:\n",
    "    Lname = input(\"Input last name or ZZZ to QUIT: \")\n",
    "    if Lname == \"ZZZ\":\n",
    "        break\n",
    "        \n",
    "    Fname = input(\"Input your first name: \")    \n",
    "    GPA = float(input(\"Input your GPA: \"))"
   ]
  },
  {
   "cell_type": "markdown",
   "id": "dc22290c-2e23-4e59-b20e-7a9882f39e5c",
   "metadata": {},
   "source": [
    "test if the student's GPA is 3.5 or greater and, \r",
    "#if so, print a message saying that the student has made the Dean's List.\n",
    "#test if the student's GPA is 3.25 or greater and,\r\n",
    "#if so, print a message saying that the student has made the Honor Roll."
   ]
  },
  {
   "cell_type": "code",
   "execution_count": null,
   "id": "d7dbd4c2-5917-4321-b358-fa983d49d0e7",
   "metadata": {},
   "outputs": [],
   "source": [
    "    if (GPA >= 3.5):\n",
    "        print(\"You made the deans list!!\")\n",
    "        \n",
    "    elif (GPA >= 3.25):\n",
    "        print(\"You made the honor roll!!\")\n",
    "    \n",
    "    else:\n",
    "        print(\"DO BETTER!!\")"
   ]
  }
 ],
 "metadata": {
  "kernelspec": {
   "display_name": "Python 3 (ipykernel)",
   "language": "python",
   "name": "python3"
  },
  "language_info": {
   "codemirror_mode": {
    "name": "ipython",
    "version": 3
   },
   "file_extension": ".py",
   "mimetype": "text/x-python",
   "name": "python",
   "nbconvert_exporter": "python",
   "pygments_lexer": "ipython3",
   "version": "3.11.7"
  }
 },
 "nbformat": 4,
 "nbformat_minor": 5
}
