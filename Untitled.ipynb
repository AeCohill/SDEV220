{
 "cells": [
  {
   "cell_type": "code",
   "execution_count": null,
   "id": "e2af1ae1-55b1-4825-9893-9377d8daa650",
   "metadata": {},
   "outputs": [],
   "source": [
    "## Adam cohills M01 programming assignment"
   ]
  },
  {
   "cell_type": "code",
   "execution_count": 1,
   "id": "e943d746-a0cf-4881-90d9-4fc4f7f92b9b",
   "metadata": {},
   "outputs": [
    {
     "data": {
      "text/plain": [
       "3600"
      ]
     },
     "execution_count": 1,
     "metadata": {},
     "output_type": "execute_result"
    }
   ],
   "source": [
    "## 3.1\n",
    "60 * 60\n"
   ]
  },
  {
   "cell_type": "code",
   "execution_count": null,
   "id": "7b387587-0d63-4dcf-9f9d-c879036bdd8a",
   "metadata": {},
   "outputs": [],
   "source": [
    "## Below is 3.2 - 3.5's answers"
   ]
  },
  {
   "cell_type": "code",
   "execution_count": 3,
   "id": "fa75b25e-3291-418a-a531-adb6dd4fcb81",
   "metadata": {},
   "outputs": [
    {
     "name": "stdout",
     "output_type": "stream",
     "text": [
      "86400\n",
      "24.0\n",
      "24\n"
     ]
    }
   ],
   "source": [
    "seconds_per_hour = 3600\n",
    "seconds_per_day = seconds_per_hour * 24\n",
    "print(seconds_per_day)\n",
    "print(seconds_per_day / seconds_per_hour)\n",
    "print(seconds_per_day // seconds_per_hour)"
   ]
  },
  {
   "cell_type": "code",
   "execution_count": null,
   "id": "e62ff30b-101c-453d-a00c-40eec8ba9a8f",
   "metadata": {},
   "outputs": [],
   "source": [
    "## 3.6 answer: yes they agreed."
   ]
  }
 ],
 "metadata": {
  "kernelspec": {
   "display_name": "Python 3 (ipykernel)",
   "language": "python",
   "name": "python3"
  },
  "language_info": {
   "codemirror_mode": {
    "name": "ipython",
    "version": 3
   },
   "file_extension": ".py",
   "mimetype": "text/x-python",
   "name": "python",
   "nbconvert_exporter": "python",
   "pygments_lexer": "ipython3",
   "version": "3.11.7"
  }
 },
 "nbformat": 4,
 "nbformat_minor": 5
}
