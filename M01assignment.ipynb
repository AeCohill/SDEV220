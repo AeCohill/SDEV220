{
 "cells": [
  {
   "cell_type": "code",
   "execution_count": null,
   "id": "e2af1ae1-55b1-4825-9893-9377d8daa650",
   "metadata": {},
   "outputs": [],
   "source": [
    "## Adam cohills M01 programming assignment"
   ]
  },
  {
   "cell_type": "code",
   "execution_count": 7,
   "id": "e943d746-a0cf-4881-90d9-4fc4f7f92b9b",
   "metadata": {
    "scrolled": true
   },
   "outputs": [
    {
     "name": "stdout",
     "output_type": "stream",
     "text": [
      "Answer to 3.1:  3600\n",
      "Answer to 3.2:  3600\n",
      "Answer to 3.3:  86400\n",
      "Answer to 3.4:  86400\n",
      "Answer to 3.5:  24.0\n",
      "Answer to 3.6:  24\n"
     ]
    }
   ],
   "source": [
    "## 3.1 calculating how many seconds are in an hour ##\n",
    "60 * 60\n",
    "print(\"Answer to 3.1: \",60 * 60)\n",
    "\n",
    "# 3.2 assigning result to varible\n",
    "seconds_per_hour = 3600\n",
    "print(\"Answer to 3.2: \",seconds_per_hour)\n",
    "\n",
    "## 3.3 Calculating seconds per day\n",
    "ANS3 = seconds_per_hour * 24\n",
    "print(\"Second in a day: \",ANS3)\n",
    "\n",
    "## 3.4 Assigning result to seconds per day variable\n",
    "seconds_per_day = seconds_per_hour * 24\n",
    "print(\"Answer to 3.4: \",seconds_per_day)\n",
    "\n",
    "## 3.5 dividing seconds per day by seconds per hour w/ floating point\n",
    "ANS5 = seconds_per_day / seconds_per_hour\n",
    "print(\"Answer to 3.5: \",ANS5)\n",
    "\n",
    "## 3.6 answer to prompt: yes they agreed.\n",
    "#### divided same as above but using integer division\n",
    "ANS6 = seconds_per_day // seconds_per_hour\n",
    "print(\"Answer to 3.6: \",ANS6)"
   ]
  },
  {
   "cell_type": "code",
   "execution_count": null,
   "id": "e92c8d3a-7084-42ba-a772-e368de7c8c37",
   "metadata": {},
   "outputs": [],
   "source": []
  }
 ],
 "metadata": {
  "kernelspec": {
   "display_name": "Python 3 (ipykernel)",
   "language": "python",
   "name": "python3"
  },
  "language_info": {
   "codemirror_mode": {
    "name": "ipython",
    "version": 3
   },
   "file_extension": ".py",
   "mimetype": "text/x-python",
   "name": "python",
   "nbconvert_exporter": "python",
   "pygments_lexer": "ipython3",
   "version": "3.11.7"
  }
 },
 "nbformat": 4,
 "nbformat_minor": 5
}
