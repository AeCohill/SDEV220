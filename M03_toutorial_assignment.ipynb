{
 "cells": [
  {
   "cell_type": "markdown",
   "id": "cac4731d-bb6e-43f3-a898-ea8271e68316",
   "metadata": {},
   "source": [
    "## the sort arrays 0s, 1s, 2s exercise code\n",
    "I had to go by the exercise exactly i really was lost on this may need some help in class"
   ]
  },
  {
   "cell_type": "code",
   "execution_count": null,
   "id": "955c0aec-398c-4b00-b751-3298f5f1a6b6",
   "metadata": {},
   "outputs": [],
   "source": [
    "class Solution:\n",
    "    \n",
    "    #Function to sort an array of 0s, 1s, and 2s.\n",
    "    def sort012(self,arr,n):\n",
    "        low=0\n",
    "        high=n-1\n",
    "        mid=0\n",
    "        \n",
    "        #iterating until mid pointer is less than or equal to high.\n",
    "        while mid<=high:\n",
    "            \n",
    "            #if element at mid is 0, swap with element at low and move both pointers.\n",
    "            if arr[mid]==0:\n",
    "                arr[mid] , arr[low] = arr[low] , arr[mid]\n",
    "                mid+=1\n",
    "                low+=1\n",
    "                \n",
    "            #if element at mid is 1, move mid pointer.\n",
    "            elif arr[mid]==1:\n",
    "                mid+=1\n",
    "                \n",
    "            #if element at mid is 2, swap with element at high and move high pointer.\n",
    "            else:\n",
    "                arr[mid] , arr[high] = arr[high] , arr[mid]\n",
    "                high-=1"
   ]
  },
  {
   "cell_type": "markdown",
   "id": "35c7fd1e-3752-4a6a-af44-d8a4a71c38db",
   "metadata": {},
   "source": [
    "## learning lambda expressions and iterating through arrays and finding index\n",
    "I found this hard as well maybe i just dont like the geeks for geeks stuff... Learning by reading things especially programming \n",
    "is not my bag at all i do not like it.\n",
    "below is the code they provided to help complete the exercise"
   ]
  },
  {
   "cell_type": "code",
   "execution_count": null,
   "id": "c7b7e2e5-95d3-49f4-ab68-6881901162c7",
   "metadata": {},
   "outputs": [],
   "source": [
    "def binarySearch(arr, l, r, x):\n",
    "\n",
    "    if r >= l:\n",
    "        mid = l + (r - l) // 2\n",
    "        if arr[mid] == x:\n",
    "            return mid\n",
    "\n",
    "        elif arr[mid] > x:\n",
    "            return binarySearch(arr, l, mid-1, x)\n",
    "        \n",
    "        else:\n",
    "            return binarySearch(arr, mid + 1, r, x)\n",
    "\n",
    "    else:\n",
    "        return -1\n",
    "\n",
    "\n",
    "arr = [2, 3, 4, 10, 40]\n",
    "x = 10\n",
    "\n",
    "# Function call\n",
    "result = binarySearch(arr, 0, len(arr)-1, x)\n",
    "\n",
    "if result != -1:\n",
    "    print(\"Element is present at index % d\" % result)\n",
    "else:\n",
    "    print(\"Element is not present in array\")"
   ]
  }
 ],
 "metadata": {
  "kernelspec": {
   "display_name": "Python 3 (ipykernel)",
   "language": "python",
   "name": "python3"
  },
  "language_info": {
   "codemirror_mode": {
    "name": "ipython",
    "version": 3
   },
   "file_extension": ".py",
   "mimetype": "text/x-python",
   "name": "python",
   "nbconvert_exporter": "python",
   "pygments_lexer": "ipython3",
   "version": "3.11.7"
  }
 },
 "nbformat": 4,
 "nbformat_minor": 5
}
